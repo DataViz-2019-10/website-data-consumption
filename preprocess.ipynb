{
 "cells": [
  {
   "cell_type": "markdown",
   "metadata": {},
   "source": [
    "# Notebook containing scripts to explore and preprocess .har files"
   ]
  },
  {
   "cell_type": "markdown",
   "metadata": {},
   "source": [
    "## Output format :"
   ]
  },
  {
   "cell_type": "markdown",
   "metadata": {},
   "source": [
    "```json\n",
    "{\n",
    "  \"categories\": [\n",
    "    {\n",
    "      \"cat_name\": \"Search\",\n",
    "      \"sites\": [\n",
    "        <site1>,\n",
    "        <site2>,\n",
    "        ...\n",
    "        <average site>\n",
    "      ]\n",
    "    },\n",
    "    {\n",
    "      \"cat_name\": \"Video\",\n",
    "      \"sites\": [\n",
    "        <site1>,\n",
    "        <site2>,\n",
    "        ...\n",
    "        <average site>\n",
    "      ]\n",
    "    },\n",
    "  ]\n",
    "}\n",
    "```\n",
    "This is the final format of our data, `<site>` represents the information of a website under this form :  \n",
    "\n",
    "\n",
    "```json\n",
    "{\n",
    "  \"total\": 3085729,\n",
    "  \"session_length\": 0.196933333333277,\n",
    "  \"data\": {\n",
    "    \"text\": {\n",
    "      \"html\": {\n",
    "        \"val\": 756083,\n",
    "        \"prop\": 245\n",
    "      },\n",
    "      \"javascript\": {\n",
    "        \"val\": 2183083,\n",
    "        \"prop\": 707\n",
    "      }\n",
    "    },\n",
    "    \"application\": {\n",
    "      \"json\": {\n",
    "        \"val\": 50103,\n",
    "        \"prop\": 16\n",
    "      }\n",
    "    },\n",
    "    \"image\": {\n",
    "      \"png\": {\n",
    "        \"val\": 66459,\n",
    "        \"prop\": 21\n",
    "      }\n",
    "    },\n",
    "    \"others\": {\n",
    "      \"val\": 30001,\n",
    "      \"prop\": 11,\n",
    "      \"types\": \"text/plain, application/javascript, application/binary, image/webp, image/x-icon, font/woff2, x-unknown\"\n",
    "    }\n",
    "  },\n",
    "  \"total_proportion\": 1000,\n",
    "  \"website\": \"Google\"\n",
    "}\n",
    "```\n",
    "\n",
    "The average website of a category as the same form but no sub-categories : \n",
    "\n",
    "```json\n",
    "{\n",
    "  \"website\": \"Average Search website\",\n",
    "  \"data\": {\n",
    "    \"text\": {\n",
    "      \"val\": 2939166,\n",
    "      \"prop\": 952\n",
    "    },\n",
    "    \"application\": {\n",
    "      \"val\": 50103,\n",
    "      \"prop\": 16\n",
    "    },\n",
    "    \"image\": {\n",
    "      \"val\": 66459,\n",
    "      \"prop\": 21\n",
    "    },\n",
    "    \"others\": {\n",
    "      \"val\": 30001,\n",
    "      \"prop\": 11\n",
    "    }\n",
    "  },\n",
    "  \"total\": 3085729,\n",
    "  \"total_proportion\": 1000\n",
    "}\n",
    "```"
   ]
  },
  {
   "cell_type": "markdown",
   "metadata": {},
   "source": [
    "# Exploration of .har files"
   ]
  },
  {
   "cell_type": "markdown",
   "metadata": {},
   "source": [
    "### Loading"
   ]
  },
  {
   "cell_type": "code",
   "execution_count": 1,
   "metadata": {},
   "outputs": [],
   "source": [
    "import json"
   ]
  },
  {
   "cell_type": "code",
   "execution_count": 34,
   "metadata": {},
   "outputs": [],
   "source": [
    "with open(\"raw_data/Video/YouTube.har\", 'r') as f:\n",
    "        data = json.load(f)"
   ]
  },
  {
   "cell_type": "markdown",
   "metadata": {},
   "source": [
    "### Displaying keys and values on the resulting python dict recursively "
   ]
  },
  {
   "cell_type": "code",
   "execution_count": 35,
   "metadata": {},
   "outputs": [],
   "source": [
    "def print_keys(d, indent='\\n'):\n",
    "    if type(d) == dict:\n",
    "        for k in d.keys():\n",
    "            print(indent, k, end='')\n",
    "            print_keys(d[k], (indent + ' |  '))\n",
    "    elif type(d) in (str,list):\n",
    "        print(' <', str(type(d)).split(\"'\")[1], '> (len: ', len(d), end=')', sep='')\n",
    "    else:\n",
    "        print(' <', str(type(d)).split(\"'\")[1], '>', end='', sep='')\n",
    "        \n",
    "def print_values(d, indent='\\n'):\n",
    "    if type(d) == dict:\n",
    "        for k in d.keys():\n",
    "            print(indent, k, end='')\n",
    "            print_values(d[k], (indent + ' |  '))\n",
    "    else:\n",
    "        print(':', d, end='')"
   ]
  },
  {
   "cell_type": "markdown",
   "metadata": {},
   "source": [
    "### - Log (root)"
   ]
  },
  {
   "cell_type": "code",
   "execution_count": 36,
   "metadata": {},
   "outputs": [
    {
     "name": "stdout",
     "output_type": "stream",
     "text": [
      "\n",
      " log\n",
      " |   version <str> (len: 3)\n",
      " |   creator\n",
      " |   |   name <str> (len: 12)\n",
      " |   |   version <str> (len: 6)\n",
      " |   pages <list> (len: 1)\n",
      " |   entries <list> (len: 343)"
     ]
    }
   ],
   "source": [
    "print_keys(data)"
   ]
  },
  {
   "cell_type": "code",
   "execution_count": 37,
   "metadata": {},
   "outputs": [
    {
     "name": "stdout",
     "output_type": "stream",
     "text": [
      "{'name': 'WebInspector', 'version': '537.36'}\n"
     ]
    }
   ],
   "source": [
    "print(data['log']['creator'])"
   ]
  },
  {
   "cell_type": "code",
   "execution_count": 38,
   "metadata": {},
   "outputs": [
    {
     "name": "stdout",
     "output_type": "stream",
     "text": [
      "[{'startedDateTime': '2019-12-14T14:51:43.280Z', 'id': 'page_1', 'title': 'https://www.youtube.com/', 'pageTimings': {'onContentLoad': 2485.2490000002945, 'onLoad': 3324.8200000002726}}]\n"
     ]
    }
   ],
   "source": [
    "print(data['log']['pages'])"
   ]
  },
  {
   "cell_type": "markdown",
   "metadata": {},
   "source": [
    "### - Element of log.entries"
   ]
  },
  {
   "cell_type": "code",
   "execution_count": 39,
   "metadata": {},
   "outputs": [
    {
     "name": "stdout",
     "output_type": "stream",
     "text": [
      "\n",
      " startedDateTime <str> (len: 24)\n",
      " time <float>\n",
      " request\n",
      " |   method <str> (len: 3)\n",
      " |   url <str> (len: 24)\n",
      " |   httpVersion <str> (len: 8)\n",
      " |   headers <list> (len: 13)\n",
      " |   queryString <list> (len: 0)\n",
      " |   cookies <list> (len: 1)\n",
      " |   headersSize <int>\n",
      " |   bodySize <int>\n",
      " response\n",
      " |   status <int>\n",
      " |   statusText <str> (len: 0)\n",
      " |   httpVersion <str> (len: 8)\n",
      " |   headers <list> (len: 18)\n",
      " |   cookies <list> (len: 5)\n",
      " |   content\n",
      " |   |   size <int>\n",
      " |   |   mimeType <str> (len: 9)\n",
      " |   |   text <str> (len: 528804)\n",
      " |   |   encoding <str> (len: 6)\n",
      " |   redirectURL <str> (len: 0)\n",
      " |   headersSize <int>\n",
      " |   bodySize <int>\n",
      " |   _transferSize <int>\n",
      " cache\n",
      " timings\n",
      " |   blocked <float>\n",
      " |   dns <int>\n",
      " |   ssl <int>\n",
      " |   connect <int>\n",
      " |   send <float>\n",
      " |   wait <float>\n",
      " |   receive <float>\n",
      " |   _blocked_queueing <float>\n",
      " serverIPAddress <str> (len: 14)\n",
      " _initiator\n",
      " |   type <str> (len: 5)\n",
      " _priority <str> (len: 8)\n",
      " _resourceType <str> (len: 8)\n",
      " connection <str> (len: 2)\n",
      " pageref <str> (len: 6)"
     ]
    }
   ],
   "source": [
    "print_keys(data['log']['entries'][0])"
   ]
  },
  {
   "cell_type": "markdown",
   "metadata": {},
   "source": [
    "### - Entries types"
   ]
  },
  {
   "cell_type": "code",
   "execution_count": 30,
   "metadata": {},
   "outputs": [
    {
     "name": "stdout",
     "output_type": "stream",
     "text": [
      "['text/html', 'text/plain', 'text/javascript', 'text/css', 'image/jpeg', 'font/woff2', 'application/json', 'image/webp', 'image/gif', 'application/javascript', 'application/x-www-form-urlencoded', 'video/webm', 'audio/webm', 'image/x-icon', 'image/png', 'video/x-flv', 'text/xml', 'x-unknown']\n",
      "min size: 0\n",
      "max size: 2909592\n"
     ]
    }
   ],
   "source": [
    "entries_types = []\n",
    "min_size = 1e7\n",
    "max_size = 0\n",
    "for e in data['log']['entries']:\n",
    "    if not e['response']['content']['mimeType'] in entries_types:\n",
    "        entries_types.append(e['response']['content']['mimeType'])\n",
    "        \n",
    "    min_size = min(min_size, e['response']['content']['size'])\n",
    "    max_size = max(max_size, e['response']['content']['size'])\n",
    "    \n",
    "print(entries_types)\n",
    "print('min size:',min_size)\n",
    "print('max size:',max_size)"
   ]
  },
  {
   "cell_type": "markdown",
   "metadata": {},
   "source": [
    "#### Some tests"
   ]
  },
  {
   "cell_type": "code",
   "execution_count": 31,
   "metadata": {},
   "outputs": [
    {
     "name": "stdout",
     "output_type": "stream",
     "text": [
      "100 :\n",
      "content type: text/html\n",
      "content size: 0\n",
      "head size: -1\n",
      "body size: -1\n",
      "transfer size: 61\n",
      "101 :\n",
      "content type: video/x-flv\n",
      "content size: 0\n",
      "head size: -1\n",
      "body size: -1\n",
      "transfer size: 75\n",
      "102 :\n",
      "content type: text/html\n",
      "content size: 0\n",
      "head size: -1\n",
      "body size: -1\n",
      "transfer size: 66\n",
      "103 :\n",
      "content type: audio/webm\n",
      "content size: 65536\n",
      "head size: 1010\n",
      "body size: 65536\n",
      "transfer size: 66546\n"
     ]
    }
   ],
   "source": [
    "for i in range(100,104):\n",
    "    print(i, ':')\n",
    "    print('content type:', data['log']['entries'][i]['response']['content']['mimeType'])\n",
    "    print('content size:', data['log']['entries'][i]['response']['content']['size'])\n",
    "    print('head size:', data['log']['entries'][i]['response']['headersSize'])\n",
    "    print('body size:', data['log']['entries'][i]['response']['bodySize'])\n",
    "    print('transfer size:', data['log']['entries'][i]['response']['_transferSize'])"
   ]
  },
  {
   "cell_type": "markdown",
   "metadata": {},
   "source": [
    "=> It may be best to use the transfer size"
   ]
  },
  {
   "cell_type": "markdown",
   "metadata": {},
   "source": [
    "## Retrieving useful data"
   ]
  },
  {
   "cell_type": "code",
   "execution_count": 72,
   "metadata": {},
   "outputs": [
    {
     "name": "stdout",
     "output_type": "stream",
     "text": [
      "\n",
      " total: 607683\n",
      " session_length: 0.196933333333277\n",
      " data\n",
      " |   text\n",
      " |   |   html: 148898\n",
      " |   |   javascript: 429922\n",
      " |   |   plain: 2440\n",
      " |   application\n",
      " |   |   javascript: 0\n",
      " |   |   binary: 3398\n",
      " |   |   json: 9867\n",
      " |   image\n",
      " |   |   png: 13088\n",
      " |   |   webp: 0\n",
      " |   |   x-icon: 70\n",
      " |   font\n",
      " |   |   woff2: 0\n",
      " |   x-unknown: 0"
     ]
    }
   ],
   "source": [
    "def parse_time(s):\n",
    "    t = s.split(':')\n",
    "    return float(t[0][-2:])*60 + float(t[1]) + float(t[2][:-1])/60\n",
    "\n",
    "def retrieve_data(data):\n",
    "    out = {\n",
    "        'total': 0,\n",
    "        'session_length': (parse_time(data['log']['entries'][-1]['startedDateTime'])\n",
    "                           - parse_time(data['log']['entries'][0]['startedDateTime']))\n",
    "    }\n",
    "\n",
    "    d = {}\n",
    "    \n",
    "    for e in data['log']['entries']:\n",
    "        t = e['response']['content']['mimeType'].split('/') # data type (list)\n",
    "        size = e['response']['_transferSize']\n",
    "\n",
    "        if not t[0] in d.keys():\n",
    "            if len(t) > 1:\n",
    "                d[t[0]] = {}\n",
    "                d[t[0]][t[1]] = size\n",
    "            else:\n",
    "                d[t[0]] = size\n",
    "\n",
    "        elif len(t) > 1:\n",
    "            if not t[1] in d[t[0]].keys():\n",
    "                d[t[0]][t[1]] = size\n",
    "            else:\n",
    "                d[t[0]][t[1]] += size            \n",
    "\n",
    "        else:\n",
    "            d[t[0]] += size\n",
    "\n",
    "        out['total'] += size\n",
    "        \n",
    "        #print(e['startedDateTime'])\n",
    "    out['data'] = d\n",
    "    return out\n",
    "\n",
    "with open(\"raw_data/Search/Google.har\", 'r') as f:\n",
    "        data = json.load(f)\n",
    "print_values(retrieve_data(data))"
   ]
  },
  {
   "cell_type": "markdown",
   "metadata": {},
   "source": [
    "## Preprocessing "
   ]
  },
  {
   "cell_type": "markdown",
   "metadata": {},
   "source": [
    "### _Calculating per minutes ratio_"
   ]
  },
  {
   "cell_type": "code",
   "execution_count": 73,
   "metadata": {},
   "outputs": [],
   "source": [
    "def preprocess(js, total_prop = 1000, remove_threshold=10):\n",
    "    factor = js['session_length']\n",
    "    total = js['total']\n",
    "    js['total'] = int(js['total']/js['session_length'])\n",
    "    js['total_proportion'] = total_prop\n",
    "    \n",
    "    to_remove = []\n",
    "    \n",
    "    s_val = 0\n",
    "    s_prop = 0\n",
    "    \n",
    "    d = js['data']\n",
    "    \n",
    "    for k in d.keys():\n",
    "        \n",
    "        if type(d[k]) == dict:\n",
    "            for k2 in d[k].keys():\n",
    "                val = int(d[k][k2]/factor)\n",
    "                prop = int(d[k][k2]/total*total_prop)\n",
    "                d[k][k2] = {'val': val, 'prop': prop}\n",
    "                s_val += val\n",
    "                s_prop += prop\n",
    "        \n",
    "        else:\n",
    "            val = int(d[k]/factor)\n",
    "            prop = int(d[k]/total*total_prop)\n",
    "            d[k] = {'val': val, 'prop': prop}\n",
    "            s_val += val\n",
    "            s_prop += prop\n",
    "            \n",
    "        if remove_threshold > 0:\n",
    "            if 'prop' in d[k].keys():\n",
    "                if d[k]['prop'] < remove_threshold:\n",
    "                    to_remove.append(k)\n",
    "            else:\n",
    "                for k2 in d[k].keys():\n",
    "                    if 'prop' in d[k][k2].keys():\n",
    "                        if d[k][k2]['prop'] < remove_threshold:\n",
    "                            to_remove.append((k + '/' + k2))\n",
    "    \n",
    "    string = ''\n",
    "    r_prop = 0\n",
    "    r_val = 0\n",
    "    for cat in to_remove:\n",
    "        string+=cat+', '\n",
    "        keys = cat.split('/')\n",
    "        \n",
    "        if len(keys) > 1:\n",
    "            r_prop += d[keys[0]][keys[1]]['prop']  #super moche mais plus facile \n",
    "            r_val += d[keys[0]][keys[1]]['val']\n",
    "            del d[keys[0]][keys[1]]\n",
    "            if len(d[keys[0]].keys()) == 0:\n",
    "                del d[keys[0]]\n",
    "        else:\n",
    "            r_prop += d[keys[0]]['prop']  #super moche mais plus facile \n",
    "            r_val += d[keys[0]]['val']\n",
    "            del d[keys[0]]\n",
    "    string = string[:-2]\n",
    "    \n",
    "    js['data']['others'] = {\n",
    "        'val': js['total'] - s_val + r_val, \n",
    "        'prop': total_prop - s_prop + r_prop,\n",
    "        'types': string\n",
    "    }\n",
    "    \n",
    "#     print('sum_val:',s_val)\n",
    "#     print('tot_val:', js['total'])\n",
    "#     print('sum_prop:',s_prop)\n",
    "#     print('tot_prop:', total_prop)\n",
    "    \n",
    "    return js"
   ]
  },
  {
   "cell_type": "code",
   "execution_count": 74,
   "metadata": {},
   "outputs": [
    {
     "name": "stdout",
     "output_type": "stream",
     "text": [
      "\n",
      " total: 3085729\n",
      " session_length: 0.196933333333277\n",
      " data\n",
      " |   text\n",
      " |   |   html\n",
      " |   |   |   val: 756083\n",
      " |   |   |   prop: 245\n",
      " |   |   javascript\n",
      " |   |   |   val: 2183083\n",
      " |   |   |   prop: 707\n",
      " |   application\n",
      " |   |   json\n",
      " |   |   |   val: 50103\n",
      " |   |   |   prop: 16\n",
      " |   image\n",
      " |   |   png\n",
      " |   |   |   val: 66459\n",
      " |   |   |   prop: 21\n",
      " |   others\n",
      " |   |   val: 30001\n",
      " |   |   prop: 11\n",
      " |   |   types: text/plain, application/javascript, application/binary, image/webp, image/x-icon, font/woff2, x-unknown\n",
      " total_proportion: 1000"
     ]
    }
   ],
   "source": [
    "with open(\"raw_data/Search/Google.har\", 'r') as f:\n",
    "        data = json.load(f)\n",
    "print_values(preprocess(retrieve_data(data)))"
   ]
  },
  {
   "cell_type": "markdown",
   "metadata": {},
   "source": [
    "## Sites Moyens"
   ]
  },
  {
   "cell_type": "code",
   "execution_count": 80,
   "metadata": {},
   "outputs": [],
   "source": [
    "def compute_average_site(sites, cat_name):\n",
    "    avg = {\n",
    "        'website': ('Average ' + c + ' website'),\n",
    "        'data': {}\n",
    "    }\n",
    "    \n",
    "    tot_val = 0\n",
    "    \n",
    "    # get main datatypes\n",
    "    datatypes = []\n",
    "    for site in sites:\n",
    "        for k in site[\"data\"].keys():\n",
    "            if k not in datatypes:\n",
    "                datatypes.append(k)\n",
    "            \n",
    "    # computing and saving average\n",
    "    for t in datatypes:\n",
    "        s_val = 0\n",
    "        for site in sites:\n",
    "            data = site['data'] \n",
    "            \n",
    "            if t in data.keys():\n",
    "                # test sub categories\n",
    "                if 'val' not in data[t].keys():\n",
    "                    for k in data[t].keys():\n",
    "                        s_val += data[t][k]['val']\n",
    "                else:\n",
    "                    s_val += data[t]['val']\n",
    "                    \n",
    "        val = int(s_val/len(sites))\n",
    "        \n",
    "        tot_val += val\n",
    "        \n",
    "        avg['data'][t] = {'val': val }\n",
    "        \n",
    "    # computing prop:\n",
    "    tot_prop = 0\n",
    "    for t in avg['data'].keys():\n",
    "        prop = int(avg['data'][t]['val'] * 1000 / tot_val)\n",
    "        tot_prop += prop\n",
    "        avg['data'][t]['prop'] = prop\n",
    "    # adding the leftovers in 'others'\n",
    "    if 'others' in avg['data'].keys():\n",
    "        avg['data']['others']['prop'] += 1000 - tot_prop\n",
    "    else:\n",
    "        avg['data']['others']['prop'] = 1000 - tot_prop\n",
    "        \n",
    "    avg['total'] = tot_val\n",
    "    avg['total_proportion'] = 1000 #XXXXXXXXXXXXXXXXXXXXXXXXXXXXXXXXXXXXXXXXXXXX TODO : variable globale (en dessus *2 aussi)\n",
    "    \n",
    "    \n",
    "    return avg "
   ]
  },
  {
   "cell_type": "markdown",
   "metadata": {},
   "source": [
    "## Script final"
   ]
  },
  {
   "cell_type": "code",
   "execution_count": 81,
   "metadata": {},
   "outputs": [],
   "source": [
    "from os import listdir\n",
    "from os.path import isfile, join, isdir\n",
    "#onlyfiles = [f for f in listdir(mypath) if isfile(join(mypath, f))]\n",
    "path = 'raw_data'"
   ]
  },
  {
   "cell_type": "code",
   "execution_count": 82,
   "metadata": {},
   "outputs": [],
   "source": [
    "categories = [d for d in listdir(path) if isdir(join(path, d))]\n",
    "\n",
    "out = {\n",
    "    'categories': []\n",
    "}\n",
    "\n",
    "for c in categories:\n",
    "    cat_dir = join(path,c)\n",
    "    sites = []\n",
    "    files = [f for f in listdir(cat_dir) if isfile(join(cat_dir, f))]\n",
    "    \n",
    "    for filename in files:\n",
    "        with open(join(cat_dir,filename), 'r') as f:\n",
    "            try:\n",
    "                data = json.load(f)\n",
    "            except:\n",
    "                print('/ ! \\ Error in file', filename)\n",
    "            else:\n",
    "                data = preprocess(retrieve_data(data))\n",
    "                data['website'] = filename.split('/')[-1][:-4]\n",
    "                sites.append(data)\n",
    "    \n",
    "    sites.append(compute_average_site(sites, c))\n",
    "    \n",
    "    d = {\n",
    "        'cat_name': c,\n",
    "        'sites': sites\n",
    "    }\n",
    "    \n",
    "    out['categories'].append(d)\n"
   ]
  },
  {
   "cell_type": "markdown",
   "metadata": {},
   "source": [
    "## Saving"
   ]
  },
  {
   "cell_type": "code",
   "execution_count": 83,
   "metadata": {},
   "outputs": [],
   "source": [
    "with open('data.json', 'w') as f:\n",
    "    json.dump(out, f)"
   ]
  },
  {
   "cell_type": "markdown",
   "metadata": {},
   "source": [
    "TODO:\n",
    "- eventuellement changer la façon de faire (ajouter attibut name, booléen si il y a des sous cat)\n",
    "- meilleure mise en forme de other ?\n",
    "- Site moyen général\n",
    "- Cas où dans les sites moyens une prop est en dessous de threshold"
   ]
  },
  {
   "cell_type": "code",
   "execution_count": 84,
   "metadata": {},
   "outputs": [
    {
     "name": "stdout",
     "output_type": "stream",
     "text": [
      "--- Search\n",
      " - \n",
      "\n",
      " total: 3085729\n",
      " session_length: 0.196933333333277\n",
      " data\n",
      " |   text\n",
      " |   |   html\n",
      " |   |   |   val: 756083\n",
      " |   |   |   prop: 245\n",
      " |   |   javascript\n",
      " |   |   |   val: 2183083\n",
      " |   |   |   prop: 707\n",
      " |   application\n",
      " |   |   json\n",
      " |   |   |   val: 50103\n",
      " |   |   |   prop: 16\n",
      " |   image\n",
      " |   |   png\n",
      " |   |   |   val: 66459\n",
      " |   |   |   prop: 21\n",
      " |   others\n",
      " |   |   val: 30001\n",
      " |   |   prop: 11\n",
      " |   |   types: text/plain, application/javascript, application/binary, image/webp, image/x-icon, font/woff2, x-unknown\n",
      " total_proportion: 1000\n",
      " website: Google - \n",
      "\n",
      " website: Average Search website\n",
      " data\n",
      " |   text\n",
      " |   |   val: 2939166\n",
      " |   |   prop: 952\n",
      " |   application\n",
      " |   |   val: 50103\n",
      " |   |   prop: 16\n",
      " |   image\n",
      " |   |   val: 66459\n",
      " |   |   prop: 21\n",
      " |   others\n",
      " |   |   val: 30001\n",
      " |   |   prop: 11\n",
      " total: 3085729\n",
      " total_proportion: 1000--- Video\n",
      " - \n",
      "\n",
      " total: 5386678\n",
      " session_length: 3.6858000000000857\n",
      " data\n",
      " |   text\n",
      " |   |   html\n",
      " |   |   |   val: 119748\n",
      " |   |   |   prop: 22\n",
      " |   |   javascript\n",
      " |   |   |   val: 389326\n",
      " |   |   |   prop: 72\n",
      " |   image\n",
      " |   |   jpeg\n",
      " |   |   |   val: 81063\n",
      " |   |   |   prop: 15\n",
      " |   |   webp\n",
      " |   |   |   val: 915222\n",
      " |   |   |   prop: 169\n",
      " |   video\n",
      " |   |   webm\n",
      " |   |   |   val: 2363563\n",
      " |   |   |   prop: 438\n",
      " |   audio\n",
      " |   |   webm\n",
      " |   |   |   val: 1400875\n",
      " |   |   |   prop: 260\n",
      " |   others\n",
      " |   |   val: 116881\n",
      " |   |   prop: 24\n",
      " |   |   types: text/plain, text/css, text/xml, image/gif, image/x-icon, image/png, font/woff2, application/json, application/javascript, application/x-www-form-urlencoded, video/x-flv, x-unknown\n",
      " total_proportion: 1000\n",
      " website: YouTube - \n",
      "\n",
      " total: 7503932\n",
      " session_length: 3.712033333333352\n",
      " data\n",
      " |   image\n",
      " |   |   jpeg\n",
      " |   |   |   val: 75056\n",
      " |   |   |   prop: 10\n",
      " |   application\n",
      " |   |   javascript\n",
      " |   |   |   val: 152058\n",
      " |   |   |   prop: 20\n",
      " |   video\n",
      " |   |   mp2t\n",
      " |   |   |   val: 6679158\n",
      " |   |   |   prop: 890\n",
      " |   |   webm\n",
      " |   |   |   val: 488788\n",
      " |   |   |   prop: 65\n",
      " |   others\n",
      " |   |   val: 108872\n",
      " |   |   prop: 15\n",
      " |   |   types: image/gif, image/png, text/html, text/plain, text/javascript, text/xml, x-unknown, application/json, application/x-javascript, application/vnd.apple.mpegurl, application/x-gzip\n",
      " total_proportion: 1000\n",
      " website: DailyMotion - \n",
      "\n",
      " website: Average Video website\n",
      " data\n",
      " |   text\n",
      " |   |   val: 254537\n",
      " |   |   prop: 39\n",
      " |   image\n",
      " |   |   val: 535670\n",
      " |   |   prop: 83\n",
      " |   video\n",
      " |   |   val: 4765754\n",
      " |   |   prop: 739\n",
      " |   audio\n",
      " |   |   val: 700437\n",
      " |   |   prop: 108\n",
      " |   others\n",
      " |   |   val: 112876\n",
      " |   |   prop: 20\n",
      " |   application\n",
      " |   |   val: 76029\n",
      " |   |   prop: 11\n",
      " total: 6445303\n",
      " total_proportion: 1000"
     ]
    }
   ],
   "source": [
    "for c in out['categories']:\n",
    "    print('---', c['cat_name'])\n",
    "    for s in c['sites']:\n",
    "        print(' - ')\n",
    "        print_values(s)"
   ]
  },
  {
   "cell_type": "code",
   "execution_count": null,
   "metadata": {},
   "outputs": [],
   "source": []
  },
  {
   "cell_type": "code",
   "execution_count": null,
   "metadata": {},
   "outputs": [],
   "source": []
  },
  {
   "cell_type": "code",
   "execution_count": null,
   "metadata": {},
   "outputs": [],
   "source": []
  },
  {
   "cell_type": "code",
   "execution_count": null,
   "metadata": {},
   "outputs": [],
   "source": []
  }
 ],
 "metadata": {
  "kernelspec": {
   "display_name": "Python 3",
   "language": "python",
   "name": "python3"
  },
  "language_info": {
   "codemirror_mode": {
    "name": "ipython",
    "version": 3
   },
   "file_extension": ".py",
   "mimetype": "text/x-python",
   "name": "python",
   "nbconvert_exporter": "python",
   "pygments_lexer": "ipython3",
   "version": "3.7.4"
  }
 },
 "nbformat": 4,
 "nbformat_minor": 4
}
